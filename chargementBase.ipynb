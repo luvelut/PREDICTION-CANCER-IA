{
 "cells": [
  {
   "cell_type": "code",
   "execution_count": 1,
   "metadata": {},
   "outputs": [
    {
     "name": "stdout",
     "output_type": "stream",
     "text": [
      "275246\n",
      "275246\n"
     ]
    }
   ],
   "source": [
    "#Velut Lucile & Poncet Clara G1 - Projet Modélisation IA\n",
    "\n",
    "import os\n",
    "from PIL import Image\n",
    "from matplotlib import image\n",
    "from matplotlib import pyplot\n",
    "import numpy as np\n",
    "\n",
    "#277,524 images dont 198,738 IDC negative and 78,786 IDC positive\n",
    "\n",
    "#liste des images transformées en array\n",
    "matImage=[]\n",
    "\n",
    "#tableau des diagnostics\n",
    "diagnostic=np.ones(277524)\n",
    "\n",
    "#index d'écriture dans le tableau des diagnostics\n",
    "i=0\n",
    "\n",
    "\n",
    "#Lecture des images par parcours des fichiers\n",
    "\n",
    "for root, dirs, files in os.walk(\"../breastCancerDataset\") :\n",
    "       for name in files :\n",
    "            if (name.endswith(\"1.png\")) : #si l'image est positive\n",
    "                chemin = root + \"/\" + name\n",
    "                data = image.imread(chemin) #on lit l'image\n",
    "                if(np.shape(data) == (50,50,3)) : #on modifie la taille des \"grandes\" images\n",
    "                    data=data[:, :48, :]\n",
    "                if(np.shape(data) != (50,48,3) and np.shape(data) != (48,50,3)) : #on élimine les images trop petites\n",
    "                    continue\n",
    "                data=data.reshape(1,7200) #on met l'image sous forme d'un tableau de dimensions 1*7200\n",
    "                matImage.append(data) #on l'ajoute au tableau des images\n",
    "                diagnostic[i]= 1 #on ajoute le diagnostic au tableau des diagnostics\n",
    "                i=i+1\n",
    "            else : #si l'image est négative\n",
    "                chemin = root + \"/\" + name\n",
    "                data = image.imread(chemin)\n",
    "                if(np.shape(data) == (50,50,3)) :\n",
    "                    data=data[:, :48, :]\n",
    "                if(np.shape(data) != (50,48,3) and np.shape(data) != (48,50,3)) :\n",
    "                    continue\n",
    "                data=data.reshape(1,7200)\n",
    "                matImage.append(data)\n",
    "                diagnostic[i] = 0\n",
    "                i=i+1\n",
    "         \n",
    "    \n",
    "#on récupère le nombre d'images sélectionnées\n",
    "print(i)\n",
    "print(len(matImage))\n",
    "\n"
   ]
  },
  {
   "cell_type": "code",
   "execution_count": 3,
   "metadata": {},
   "outputs": [
    {
     "name": "stdout",
     "output_type": "stream",
     "text": [
      "(275246, 7200)\n",
      "[0.85882354 0.5882353  0.77254903 ... 0.9764706  0.9529412  0.98039216]\n",
      "(275246, 7201)\n",
      "[0.85882354 0.58823532 0.77254903 ... 0.95294118 0.98039216 0.        ]\n"
     ]
    }
   ],
   "source": [
    "#On transforme notre matrice en array :\n",
    "tabImages=np.array(matImage)\n",
    "tabImages=tabImages.reshape(len(matImage),7200)\n",
    "print(tabImages.shape)\n",
    "print(tabImages[1])\n",
    "\n",
    "#On \"raccourcit\" le tableau diagnostic :\n",
    "diagnostic=diagnostic[:len(matImage)]\n",
    "diagnostic=diagnostic.reshape(275246,1)\n",
    "\n",
    "#On crée un tableau qui regroupe les deux :\n",
    "tabDonnees=np.concatenate((tabImages,diagnostic),axis=1)\n",
    "print(tabDonnees.shape)\n",
    "print(tabDonnees[1])"
   ]
  },
  {
   "cell_type": "code",
   "execution_count": 4,
   "metadata": {},
   "outputs": [],
   "source": [
    "#Sauvegarde des tableaux dans deux fichiers .npy\n",
    "import pickle\n",
    "np.save(\"baseDonneestableau.npy\",tabDonnees)"
   ]
  },
  {
   "cell_type": "code",
   "execution_count": null,
   "metadata": {},
   "outputs": [],
   "source": []
  }
 ],
 "metadata": {
  "kernelspec": {
   "display_name": "Python 3",
   "language": "python",
   "name": "python3"
  },
  "language_info": {
   "codemirror_mode": {
    "name": "ipython",
    "version": 3
   },
   "file_extension": ".py",
   "mimetype": "text/x-python",
   "name": "python",
   "nbconvert_exporter": "python",
   "pygments_lexer": "ipython3",
   "version": "3.8.5"
  }
 },
 "nbformat": 4,
 "nbformat_minor": 4
}
