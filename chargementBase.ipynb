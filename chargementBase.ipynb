{
 "cells": [
  {
   "cell_type": "code",
   "execution_count": 33,
   "metadata": {},
   "outputs": [
    {
     "name": "stdout",
     "output_type": "stream",
     "text": [
      "275246\n",
      "275246\n"
     ]
    }
   ],
   "source": [
    "#Velut Lucile & Poncet Clara G1 - Projet Modélisation IA\n",
    "\n",
    "import os\n",
    "from PIL import Image\n",
    "from matplotlib import image\n",
    "from matplotlib import pyplot\n",
    "import numpy as np\n",
    "\n",
    "#277,524 images dont 198,738 IDC negative and 78,786 IDC positive\n",
    "\n",
    "#index du dataframe\n",
    "index=range(0,277524,1)\n",
    "\n",
    "#liste des images transformées en array\n",
    "matImage=[]\n",
    "\n",
    "#tableau des diagnostics\n",
    "diagnostic=np.ones(277524)\n",
    "\n",
    "#index d'écriture dans le tableau des diagnostics\n",
    "i=0\n",
    "\n",
    "\n",
    "#Lecture des images\n",
    "\n",
    "for root, dirs, files in os.walk(\"../breastCancerDataset\") :\n",
    "       for name in files :\n",
    "            if (name.endswith(\"1.png\")) :\n",
    "                chemin = root + \"/\" + name\n",
    "                data = image.imread(chemin)\n",
    "                if(np.shape(data) == (50,50,3)) :\n",
    "                    data=data[:, :48, :]\n",
    "                if(np.shape(data) != (50,48,3) and np.shape(data) != (48,50,3)) :\n",
    "                    continue\n",
    "                data=data.reshape(7200,1)\n",
    "                matImage.append(data)\n",
    "                diagnostic[i]= 1\n",
    "                i=i+1\n",
    "            else :\n",
    "                chemin = root + \"/\" + name\n",
    "                data = image.imread(chemin)\n",
    "                if(np.shape(data) == (50,50,3)) :\n",
    "                    data=data[:, :48, :]\n",
    "                if(np.shape(data) != (50,48,3) and np.shape(data) != (48,50,3)) :\n",
    "                    continue\n",
    "                data=data.reshape(7200,1)\n",
    "                matImage.append(data)\n",
    "                diagnostic[i] = 0\n",
    "                i=i+1\n",
    "         \n",
    "\n",
    "print(i)\n",
    "print(len(matImage))\n",
    "\n"
   ]
  },
  {
   "cell_type": "code",
   "execution_count": 37,
   "metadata": {},
   "outputs": [
    {
     "name": "stdout",
     "output_type": "stream",
     "text": [
      "                                                    image  diagnostic\n",
      "0       [[0.8862745], [0.6431373], [0.80784315], [0.87...         0.0\n",
      "1       [[0.85882354], [0.5882353], [0.77254903], [0.8...         0.0\n",
      "2       [[0.972549], [0.9607843], [0.9764706], [0.9725...         0.0\n",
      "3       [[0.9764706], [0.96862745], [0.9764706], [0.97...         0.0\n",
      "4       [[0.94509804], [0.90588236], [0.92941177], [0....         0.0\n",
      "...                                                   ...         ...\n",
      "275241  [[0.7294118], [0.54509807], [0.6745098], [0.54...         1.0\n",
      "275242  [[0.4509804], [0.27450982], [0.47058824], [0.6...         1.0\n",
      "275243  [[0.50980395], [0.32941177], [0.5019608], [0.6...         1.0\n",
      "275244  [[0.6901961], [0.41960785], [0.6], [0.69803923...         1.0\n",
      "275245  [[0.9411765], [0.92156863], [0.93333334], [0.9...         1.0\n",
      "\n",
      "[275246 rows x 2 columns]\n"
     ]
    },
    {
     "data": {
      "text/html": [
       "<div>\n",
       "<style scoped>\n",
       "    .dataframe tbody tr th:only-of-type {\n",
       "        vertical-align: middle;\n",
       "    }\n",
       "\n",
       "    .dataframe tbody tr th {\n",
       "        vertical-align: top;\n",
       "    }\n",
       "\n",
       "    .dataframe thead th {\n",
       "        text-align: right;\n",
       "    }\n",
       "</style>\n",
       "<table border=\"1\" class=\"dataframe\">\n",
       "  <thead>\n",
       "    <tr style=\"text-align: right;\">\n",
       "      <th></th>\n",
       "      <th>image</th>\n",
       "      <th>diagnostic</th>\n",
       "    </tr>\n",
       "  </thead>\n",
       "  <tbody>\n",
       "    <tr>\n",
       "      <th>0</th>\n",
       "      <td>[[0.8862745], [0.6431373], [0.80784315], [0.87...</td>\n",
       "      <td>0.0</td>\n",
       "    </tr>\n",
       "    <tr>\n",
       "      <th>1</th>\n",
       "      <td>[[0.85882354], [0.5882353], [0.77254903], [0.8...</td>\n",
       "      <td>0.0</td>\n",
       "    </tr>\n",
       "    <tr>\n",
       "      <th>2</th>\n",
       "      <td>[[0.972549], [0.9607843], [0.9764706], [0.9725...</td>\n",
       "      <td>0.0</td>\n",
       "    </tr>\n",
       "    <tr>\n",
       "      <th>3</th>\n",
       "      <td>[[0.9764706], [0.96862745], [0.9764706], [0.97...</td>\n",
       "      <td>0.0</td>\n",
       "    </tr>\n",
       "    <tr>\n",
       "      <th>4</th>\n",
       "      <td>[[0.94509804], [0.90588236], [0.92941177], [0....</td>\n",
       "      <td>0.0</td>\n",
       "    </tr>\n",
       "  </tbody>\n",
       "</table>\n",
       "</div>"
      ],
      "text/plain": [
       "                                               image  diagnostic\n",
       "0  [[0.8862745], [0.6431373], [0.80784315], [0.87...         0.0\n",
       "1  [[0.85882354], [0.5882353], [0.77254903], [0.8...         0.0\n",
       "2  [[0.972549], [0.9607843], [0.9764706], [0.9725...         0.0\n",
       "3  [[0.9764706], [0.96862745], [0.9764706], [0.97...         0.0\n",
       "4  [[0.94509804], [0.90588236], [0.92941177], [0....         0.0"
      ]
     },
     "execution_count": 37,
     "metadata": {},
     "output_type": "execute_result"
    }
   ],
   "source": [
    "#Création du dataframe\n",
    "\n",
    "import pandas as pd\n",
    "\n",
    "#Création de l'index correspondant au nombre d'images lues \n",
    "index=range(0,275246,1)\n",
    "\n",
    "#On \"raccourcit\" le tabluea diagnostic :\n",
    "diagnostic=diagnostic[:275246]\n",
    "\n",
    "#Création des séries à insérer dans le dataframe\n",
    "sImage=pd.Series(matImage,index=index)\n",
    "sDiag=pd.Series(diagnostic,index=index)\n",
    "\n",
    "#Création du dataframe\n",
    "d = {\n",
    "'image': sImage,\n",
    "'diagnostic': sDiag\n",
    "}\n",
    "\n",
    "df=pd.DataFrame(d)\n",
    "\n",
    "print(df)\n",
    "df.head(5)"
   ]
  },
  {
   "cell_type": "code",
   "execution_count": 38,
   "metadata": {},
   "outputs": [],
   "source": [
    "#Sauvegarde du dataframe dans un fichier .npy\n",
    "import pickle\n",
    "np.save(\"baseDonnees.npy\",df)"
   ]
  },
  {
   "cell_type": "code",
   "execution_count": null,
   "metadata": {},
   "outputs": [],
   "source": []
  }
 ],
 "metadata": {
  "kernelspec": {
   "display_name": "Python 3",
   "language": "python",
   "name": "python3"
  },
  "language_info": {
   "codemirror_mode": {
    "name": "ipython",
    "version": 3
   },
   "file_extension": ".py",
   "mimetype": "text/x-python",
   "name": "python",
   "nbconvert_exporter": "python",
   "pygments_lexer": "ipython3",
   "version": "3.8.5"
  }
 },
 "nbformat": 4,
 "nbformat_minor": 4
}
