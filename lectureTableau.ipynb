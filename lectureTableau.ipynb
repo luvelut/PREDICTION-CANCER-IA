{
 "cells": [
  {
   "cell_type": "code",
   "execution_count": 1,
   "metadata": {
    "scrolled": true
   },
   "outputs": [],
   "source": [
    "#On lit les données sauvegardées\n",
    "import numpy as np\n",
    "import pickle\n",
    "tabDonnees = np.load(\"baseDonneesTableau.npy\",allow_pickle=True)"
   ]
  },
  {
   "cell_type": "code",
   "execution_count": 2,
   "metadata": {},
   "outputs": [
    {
     "name": "stdout",
     "output_type": "stream",
     "text": [
      "(102592, 7201)\n"
     ]
    }
   ],
   "source": [
    "print(tabDonnees.shape)"
   ]
  },
  {
   "cell_type": "code",
   "execution_count": 3,
   "metadata": {},
   "outputs": [
    {
     "name": "stdout",
     "output_type": "stream",
     "text": [
      "(102592, 7200)\n",
      "[0.85882354 0.58823532 0.77254903 ... 0.97647059 0.95294118 0.98039216]\n",
      "(102592,)\n",
      "0.0\n"
     ]
    }
   ],
   "source": [
    "#On crée deux tableaux pour séparer les images des diagnostics\n",
    "tabImg=tabDonnees[:,:7200]\n",
    "tabDiag=tabDonnees[:,7200]\n",
    "print(tabImg.shape)\n",
    "print(tabImg[1])\n",
    "print(tabDiag.shape)\n",
    "print(tabDiag[1])"
   ]
  },
  {
   "cell_type": "code",
   "execution_count": 5,
   "metadata": {},
   "outputs": [
    {
     "name": "stdout",
     "output_type": "stream",
     "text": [
      "24504\n",
      "78088\n"
     ]
    }
   ],
   "source": [
    "#On compte le nombre d'images négatives et positives.\n",
    "nbPos=0\n",
    "for i in range (102592) :\n",
    "    if tabDiag[i]==1 :\n",
    "        nbPos=nbPos+1\n",
    "        \n",
    "print(nbPos)\n",
    "nbNeg=len(tabDiag)-nbPos\n",
    "print(nbNeg)"
   ]
  },
  {
   "cell_type": "code",
   "execution_count": 6,
   "metadata": {},
   "outputs": [
    {
     "data": {
      "text/plain": [
       "<matplotlib.legend.Legend at 0x24e4be101c0>"
      ]
     },
     "execution_count": 6,
     "metadata": {},
     "output_type": "execute_result"
    },
    {
     "data": {
      "image/png": "[encoded data removed]",
      "text/plain": [
       "<Figure size 432x288 with 1 Axes>"
      ]
     },
     "metadata": {
      "needs_background": "light"
     },
     "output_type": "display_data"
    }
   ],
   "source": [
    "#On trace un diagramme en barres pour visualiser la répartition des diagnostiques\n",
    "from matplotlib import pyplot as plt\n",
    "ind=range(1,3)\n",
    "\n",
    "bar1=len(tabDonnees)\n",
    "bar2=nbNeg\n",
    "bar3=nbPos\n",
    "\n",
    "p1=plt.bar(1,bar1,0.35)\n",
    "p2=plt.bar(2,bar3,0.35,bottom=bar2)\n",
    "p3=plt.bar(2,bar2,0.35)\n",
    "\n",
    "\n",
    "plt.title(\"Répartition des diagnostics\")\n",
    "plt.xticks(ind,('1','2'))\n",
    "plt.legend((p1[0],p2[0],p3[0]),('Echantillon total','Positif','Négatif'))"
   ]
  },
  {
   "cell_type": "code",
   "execution_count": 16,
   "metadata": {},
   "outputs": [
    {
     "data": {
      "text/plain": [
       "([<matplotlib.patches.Wedge at 0x1b265012b20>,\n",
       "  <matplotlib.patches.Wedge at 0x1b265012fa0>],\n",
       " [Text(0.8045830080723443, 0.7500974490832895, 'Images Positives'),\n",
       "  Text(-0.8045830431869395, -0.7500974114180394, 'Images Négatives')])"
      ]
     },
     "execution_count": 16,
     "metadata": {},
     "output_type": "execute_result"
    },
    {
     "data": {
      "image/png": "[encoded data removed]",
      "text/plain": [
       "<Figure size 432x288 with 1 Axes>"
      ]
     },
     "metadata": {},
     "output_type": "display_data"
    }
   ],
   "source": [
    "#On trace ensuite le même diagramme mais sous forme d'un camembert\n",
    "sizes=[nbPos,nbNeg]\n",
    "labels=[\"Images Positives\",\"Images Négatives\"]\n",
    "colors=[\"orange\",\"green\"]\n",
    "plt.pie(sizes, labels=labels, colors=colors)"
   ]
  },
  {
   "cell_type": "code",
   "execution_count": 7,
   "metadata": {},
   "outputs": [],
   "source": [
    "#On sépare les données en deux jeux, un pour l'entraînement et un pour les tests\n",
    "import sklearn as sk\n",
    "from sklearn.model_selection import train_test_split\n",
    "\n",
    "\n",
    "Xtrain,Xtest,ytrain,ytest = train_test_split(tabImg,tabDiag,test_size=0.25,random_state=0)"
   ]
  },
  {
   "cell_type": "code",
   "execution_count": 8,
   "metadata": {},
   "outputs": [
    {
     "name": "stdout",
     "output_type": "stream",
     "text": [
      "(76944, 7200)\n",
      "(76944,)\n",
      "(25648, 7200)\n",
      "(25648,)\n"
     ]
    }
   ],
   "source": [
    "print(np.shape(Xtrain))\n",
    "print(np.shape(ytrain))\n",
    "print(np.shape(Xtest))\n",
    "print(np.shape(ytest))"
   ]
  },
  {
   "cell_type": "code",
   "execution_count": 15,
   "metadata": {},
   "outputs": [],
   "source": [
    "from sklearn.metrics import accuracy_score\n",
    "from sklearn.metrics import plot_confusion_matrix\n",
    "import matplotlib.pyplot as plt\n",
    "from sklearn.neighbors import KNeighborsClassifier\n",
    "from sklearn.tree import DecisionTreeClassifier\n",
    "from sklearn import svm"
   ]
  },
  {
   "cell_type": "code",
   "execution_count": null,
   "metadata": {},
   "outputs": [],
   "source": [
    "#On commence par la méthode des plus proches voisins\n",
    "\n",
    "KNN = KNeighborsClassifier()\n",
    "clf = KNN.fit(Xtrain, ytrain)\n",
    "ypredit = clf.predict(Xtest)\n",
    "accuracy_score(ytest, ypredit)"
   ]
  },
  {
   "cell_type": "code",
   "execution_count": 9,
   "metadata": {},
   "outputs": [
    {
     "data": {
      "text/plain": [
       "0.8055988771054273"
      ]
     },
     "execution_count": 9,
     "metadata": {},
     "output_type": "execute_result"
    }
   ],
   "source": [
    "#Méthode par arbre de décision\n",
    "\n",
    "Arbre_decision = DecisionTreeClassifier(random_state=0, max_depth=20)\n",
    "clf = Arbre_decision.fit(Xtrain, ytrain)\n",
    "ypredit = clf.predict(Xtest)\n",
    "accuracy_score(ytest, ypredit)"
   ]
  },
  {
   "cell_type": "code",
   "execution_count": 16,
   "metadata": {},
   "outputs": [
    {
     "data": {
      "image/png": "[encoded data removed]",
      "text/plain": [
       "<Figure size 432x288 with 2 Axes>"
      ]
     },
     "metadata": {
      "needs_background": "light"
     },
     "output_type": "display_data"
    }
   ],
   "source": [
    "#matrice de confusion\n",
    "plot_confusion_matrix(clf,Xtest,ytest)\n",
    "plt.show()"
   ]
  },
  {
   "cell_type": "code",
   "execution_count": 9,
   "metadata": {},
   "outputs": [
    {
     "data": {
      "text/plain": [
       "0.8637710542732376"
      ]
     },
     "execution_count": 9,
     "metadata": {},
     "output_type": "execute_result"
    }
   ],
   "source": [
    "#Méthode SVM\n",
    "\n",
    "clf = svm.SVC(gamma=0.001)\n",
    "clf.fit(Xtrain,ytrain)\n",
    "ypredit = clf.predict(Xtest)\n",
    "accuracy_score(ytest, ypredit)"
   ]
  },
  {
   "cell_type": "code",
   "execution_count": null,
   "metadata": {},
   "outputs": [],
   "source": []
  }
 ],
 "metadata": {
  "kernelspec": {
   "display_name": "Python 3",
   "language": "python",
   "name": "python3"
  },
  "language_info": {
   "codemirror_mode": {
    "name": "ipython",
    "version": 3
   },
   "file_extension": ".py",
   "mimetype": "text/x-python",
   "name": "python",
   "nbconvert_exporter": "python",
   "pygments_lexer": "ipython3",
   "version": "3.8.5"
  }
 },
 "nbformat": 4,
 "nbformat_minor": 4
}
